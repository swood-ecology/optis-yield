{
 "cells": [
  {
   "cell_type": "code",
   "execution_count": 167,
   "metadata": {},
   "outputs": [],
   "source": [
    "import pandas as pd\n",
    "import numpy as np"
   ]
  },
  {
   "cell_type": "code",
   "execution_count": 168,
   "metadata": {},
   "outputs": [],
   "source": [
    "optis = pd.read_csv(\"../raw-data/OpTIS/predictors_2020_04_01_shp.csv\", low_memory=False)"
   ]
  },
  {
   "cell_type": "code",
   "execution_count": 169,
   "metadata": {},
   "outputs": [],
   "source": [
    "optis = optis.set_index('row_id')"
   ]
  },
  {
   "cell_type": "code",
   "execution_count": 170,
   "metadata": {},
   "outputs": [],
   "source": [
    "# Focus on pre-2012 data\n",
    "optis_pre2012 = optis.query('Year < 2012')"
   ]
  },
  {
   "cell_type": "code",
   "execution_count": 171,
   "metadata": {},
   "outputs": [],
   "source": [
    "a = optis_pre2012.groupby(['State_Name','County_Name'])['Corn_RedTill_High_Pct'].mean().reset_index().rename(columns={'Corn_RedTill_High_Pct': 'meanRT'})"
   ]
  },
  {
   "cell_type": "code",
   "execution_count": 172,
   "metadata": {},
   "outputs": [],
   "source": [
    "# Get lowest and highest 5 within each state\n",
    "low = a.sort_values('meanRT', ascending=True).groupby(['State_Name']).head(5).reset_index()\n",
    "high = a.sort_values('meanRT', ascending=False).groupby(['State_Name']).head(5).reset_index()"
   ]
  },
  {
   "cell_type": "code",
   "execution_count": 173,
   "metadata": {},
   "outputs": [],
   "source": [
    "# Select out Minnesota and Kansas\n",
    "states = ['Kansas', 'Minnesota']\n",
    "selectCounties = low[low.State_Name.isin(states)].append(high[high.State_Name.isin(states)],ignore_index=True)"
   ]
  },
  {
   "cell_type": "code",
   "execution_count": 174,
   "metadata": {},
   "outputs": [],
   "source": [
    "# Merge with existing data to be able to get FIPS codes\n",
    "merged = selectCounties.merge(optis, on=['State_Name','County_Name'], how='left')"
   ]
  },
  {
   "cell_type": "code",
   "execution_count": 175,
   "metadata": {},
   "outputs": [
    {
     "name": "stdout",
     "output_type": "stream",
     "text": [
      "     index State_Name County_Name     meanRT  County_FIPS      CRD_Name  \\\n",
      "0      392  Minnesota   Sherburne  13.271429        27141    MN-CENTRAL   \n",
      "1      392  Minnesota   Sherburne  13.271429        27141    MN-CENTRAL   \n",
      "2      392  Minnesota   Sherburne  13.271429        27141    MN-CENTRAL   \n",
      "3      392  Minnesota   Sherburne  13.271429        27141    MN-CENTRAL   \n",
      "4      392  Minnesota   Sherburne  13.271429        27141    MN-CENTRAL   \n",
      "..     ...        ...         ...        ...          ...           ...   \n",
      "275    303     Kansas    Doniphan  48.100000        20043  KS-NORTHEAST   \n",
      "276    303     Kansas    Doniphan  48.100000        20043  KS-NORTHEAST   \n",
      "277    303     Kansas    Doniphan  48.100000        20043  KS-NORTHEAST   \n",
      "278    303     Kansas    Doniphan  48.100000        20043  KS-NORTHEAST   \n",
      "279    303     Kansas    Doniphan  48.100000        20043  KS-NORTHEAST   \n",
      "\n",
      "     CRD_Code  Year  Corn_NoTill_Pct  Corn_RedTill_High_Pct  ...  \\\n",
      "0        2750  2005              1.2                   16.1  ...   \n",
      "1        2750  2006              0.7                    8.8  ...   \n",
      "2        2750  2007              0.3                    8.2  ...   \n",
      "3        2750  2008              1.0                    5.2  ...   \n",
      "4        2750  2009              1.5                   20.2  ...   \n",
      "..        ...   ...              ...                    ...  ...   \n",
      "275      2070  2014             37.8                   44.4  ...   \n",
      "276      2070  2015              6.9                   64.1  ...   \n",
      "277      2070  2016              2.5                   75.6  ...   \n",
      "278      2070  2017             26.2                   57.4  ...   \n",
      "279      2070  2018              7.7                   55.7  ...   \n",
      "\n",
      "     cc_residual_ac  cc_residual_prcnt  cc_std_residual  notill_fitted_ac  \\\n",
      "0      -2171.142857             #NAME?        -0.770703       3234.485714   \n",
      "1       -374.758242       -16.50917365        -0.128545       3362.652747   \n",
      "2       2378.626374         43.2713548         0.794240       3490.819780   \n",
      "3       2093.010989        36.81637624         0.684679       3618.986813   \n",
      "4      -2805.604396       -222.6670155        -0.904256       3747.153846   \n",
      "..              ...                ...              ...               ...   \n",
      "275    -5188.494505       -2459.002135        -1.255905      61365.505490   \n",
      "276    -4082.092308        -220.772975        -1.002879      61775.450550   \n",
      "277     4195.309890        39.36301267         1.052058      62185.395600   \n",
      "278     9137.712088        56.64339256         2.353914      62595.340660   \n",
      "279    -4912.885714       -188.0170576        -1.309742      63005.285710   \n",
      "\n",
      "     notill_fitted_se  notill_residual_ac  notill_residual_prcnt  \\\n",
      "0          744.500049          597.514286            15.59275276   \n",
      "1          663.763358        -1516.652747           -82.15887038   \n",
      "2          588.075694          225.180220            6.059747572   \n",
      "3          519.647961         -231.986813            -6.84933018   \n",
      "4          461.719330          320.846154            7.887073595   \n",
      "..                ...                 ...                    ...   \n",
      "275       7426.248342        22919.494510            27.19285105   \n",
      "276       8357.966756        -4131.450549           -7.167182273   \n",
      "277       9458.551691       -24270.395600            -64.0126483   \n",
      "278      10675.904640        20573.659340            24.73717291   \n",
      "279      11974.465650       -11588.285710           -22.53784879   \n",
      "\n",
      "     notill_std_residual  Total_Ag_ac_sum  ag_percent  \n",
      "0               0.472191            72163    0.250065  \n",
      "1              -1.158137            72164    0.250068  \n",
      "2               0.167389            72164    0.250068  \n",
      "3              -0.168947            72163    0.250065  \n",
      "4               0.230215            72164    0.250068  \n",
      "..                   ...              ...         ...  \n",
      "275             1.022468           169867    0.668431  \n",
      "276            -0.187067           169867    0.668431  \n",
      "277            -1.121714           169865    0.668423  \n",
      "278             0.976774           169866    0.668427  \n",
      "279            -0.569374           169868    0.668435  \n",
      "\n",
      "[280 rows x 372 columns]\n"
     ]
    }
   ],
   "source": [
    "print(merged)"
   ]
  },
  {
   "cell_type": "code",
   "execution_count": null,
   "metadata": {},
   "outputs": [],
   "source": []
  }
 ],
 "metadata": {
  "kernelspec": {
   "display_name": "Python 3",
   "language": "python",
   "name": "python3"
  },
  "language_info": {
   "codemirror_mode": {
    "name": "ipython",
    "version": 3
   },
   "file_extension": ".py",
   "mimetype": "text/x-python",
   "name": "python",
   "nbconvert_exporter": "python",
   "pygments_lexer": "ipython3",
   "version": "3.8.2"
  }
 },
 "nbformat": 4,
 "nbformat_minor": 4
}
