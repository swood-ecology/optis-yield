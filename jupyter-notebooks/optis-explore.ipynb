{
 "cells": [
  {
   "cell_type": "code",
   "execution_count": 1,
   "metadata": {},
   "outputs": [],
   "source": [
    "import pandas as pd\n",
    "import numpy as np"
   ]
  },
  {
   "cell_type": "code",
   "execution_count": 2,
   "metadata": {},
   "outputs": [],
   "source": [
    "optis = pd.read_csv(\"../raw-data/OpTIS/predictors_2020_04_01_shp.csv\", low_memory=False)"
   ]
  },
  {
   "cell_type": "code",
   "execution_count": 3,
   "metadata": {},
   "outputs": [],
   "source": [
    "optis = optis.set_index('row_id')"
   ]
  },
  {
   "cell_type": "code",
   "execution_count": 4,
   "metadata": {},
   "outputs": [],
   "source": [
    "# Focus on pre-2012 data\n",
    "optis_pre2012 = optis.query('Year < 2012')"
   ]
  },
  {
   "cell_type": "code",
   "execution_count": 5,
   "metadata": {},
   "outputs": [],
   "source": [
    "a = optis_pre2012.groupby(['State_Name','County_Name'])['Corn_RedTill_High_Pct'].mean().reset_index().rename(columns={'Corn_RedTill_High_Pct': 'meanRT'})"
   ]
  },
  {
   "cell_type": "code",
   "execution_count": 6,
   "metadata": {},
   "outputs": [],
   "source": [
    "# Get lowest and highest 5 within each state\n",
    "low = a.sort_values('meanRT', ascending=True).groupby(['State_Name']).head(5).reset_index()\n",
    "high = a.sort_values('meanRT', ascending=False).groupby(['State_Name']).head(5).reset_index()"
   ]
  },
  {
   "cell_type": "code",
   "execution_count": 7,
   "metadata": {},
   "outputs": [],
   "source": [
    "# Select out Minnesota and Kansas\n",
    "states = ['Kansas', 'Minnesota']\n",
    "selectCounties = low[low.State_Name.isin(states)].append(high[high.State_Name.isin(states)],ignore_index=True)"
   ]
  },
  {
   "cell_type": "code",
   "execution_count": 23,
   "metadata": {},
   "outputs": [
    {
     "name": "stdout",
     "output_type": "stream",
     "text": [
      "     index State_Name      County_Name     meanRT  County_FIPS\n",
      "0      392  Minnesota        Sherburne  13.271429        27141\n",
      "14     293     Kansas            Allen  15.557143        20001\n",
      "28     383  Minnesota       Pennington  20.128571        27113\n",
      "42     302     Kansas         Crawford  20.757143        20037\n",
      "56     405  Minnesota           Winona  21.214286        27169\n",
      "70     305     Kansas              Elk  24.728571        20049\n",
      "84     402  Minnesota       Washington  24.785714        27163\n",
      "98     298     Kansas            Chase  25.000000        20017\n",
      "112    300     Kansas         Cherokee  25.000000        20021\n",
      "126    356  Minnesota           Dakota  26.328571        27037\n",
      "140    318     Kansas           Morris  81.057143        20127\n",
      "154    391  Minnesota            Scott  68.671429        27139\n",
      "168    369  Minnesota         Le Sueur  64.528571        27079\n",
      "182    297     Kansas            Brown  63.085714        20013\n",
      "196    407  Minnesota  Yellow Medicine  61.642857        27173\n",
      "210    295     Kansas         Atchison  60.957143        20005\n",
      "224    348  Minnesota       Blue Earth  60.385714        27013\n",
      "238    371  Minnesota             Lyon  60.185714        27083\n",
      "252    315     Kansas         Marshall  51.485714        20117\n",
      "266    303     Kansas         Doniphan  48.100000        20043\n"
     ]
    }
   ],
   "source": [
    "# Merge with existing data to be able to get FIPS codes\n",
    "merged = selectCounties.merge(optis[['State_Name','County_Name','County_FIPS']], \n",
    "                              on=['State_Name','County_Name'], \n",
    "                              how='left').drop_duplicates()"
   ]
  },
  {
   "cell_type": "code",
   "execution_count": 24,
   "metadata": {},
   "outputs": [],
   "source": [
    "# Export file to run in GEE\n",
    "merged.to_csv('../processed-data/counties-for-gee.csv', index=False)"
   ]
  }
 ],
 "metadata": {
  "kernelspec": {
   "display_name": "Python 3",
   "language": "python",
   "name": "python3"
  },
  "language_info": {
   "codemirror_mode": {
    "name": "ipython",
    "version": 3
   },
   "file_extension": ".py",
   "mimetype": "text/x-python",
   "name": "python",
   "nbconvert_exporter": "python",
   "pygments_lexer": "ipython3",
   "version": "3.8.2"
  }
 },
 "nbformat": 4,
 "nbformat_minor": 4
}
